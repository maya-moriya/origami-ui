{
 "cells": [
  {
   "cell_type": "code",
   "execution_count": 11,
   "id": "1a4960d3",
   "metadata": {},
   "outputs": [
    {
     "name": "stdout",
     "output_type": "stream",
     "text": [
      "The autoreload extension is already loaded. To reload it, use:\n",
      "  %reload_ext autoreload\n"
     ]
    }
   ],
   "source": [
    "%load_ext autoreload\n",
    "%autoreload 2"
   ]
  },
  {
   "cell_type": "code",
   "execution_count": 12,
   "id": "82a01eae",
   "metadata": {},
   "outputs": [],
   "source": [
    "from src.origami import *\n",
    "from src.crease_map import *\n"
   ]
  },
  {
   "cell_type": "code",
   "execution_count": 23,
   "id": "e6db7446",
   "metadata": {},
   "outputs": [
    {
     "name": "stderr",
     "output_type": "stream",
     "text": [
      "DEBUG | fold_preparations |  Preparing to fold along edge (2, 4)\n",
      "DEBUG | _vids_position_map | Vertices position map: {1: -1, 2: 0, 3: 1, 4: 0}\n",
      "DEBUG | fold_preparations |  Preparing face 1: [1, 2, 3, 4]\n",
      "DEBUG | fold_preparations |     Face 1 will be split into two faces: [2, 3, 4] and [4, 1, 2]\n",
      "DEBUG | fold_on_crease_by_side | ############# Folding along edge (2, 4) to the 1 side of the line #############\n",
      "DEBUG | get_crease_faces | Found crease faces with both vertices: [[1, 2, 3, 4]]\n",
      "DEBUG | fold_on_crease_by_side | Initial faces to fold: [1]\n",
      "DEBUG | fold_on_crease_by_side | Minimal layer among these faces: 1\n",
      "INFO | _get_faces_to_fold |  Getting faces to fold on the 1 side above layer 1\n",
      "DEBUG | _get_faces_to_fold |   Adding face 1 to fold list, since layer 1 >= 1 and has vertices on the 1 side: [2, 3, 4]\n",
      "DEBUG | _get_faces_to_fold |  Checking adjacent faces for face 1: vertices on the folding side: {3}\n",
      "DEBUG | fold_on_crease_by_side | Faces to fold before sorting, above layer 1 and in 1 position: {1}\n",
      "DEBUG | fold_on_crease_by_side | Faces to fold sorted by layers: [1]\n",
      "DEBUG | fold_on_crease_by_side | Starting to fold faces...\n",
      "DEBUG | fold_on_crease_by_side |  Folding face 1 in layer 1 with split=True and vertices positions: {1: [2, 3, 4], -1: [4, 1, 2]}\n",
      "DEBUG | fold_on_crease_by_side |   Face 1 is split. Staying face: [4, 1, 2], folding face: [2, 3, 4] into new face ID 2\n",
      "DEBUG | fold_on_crease_by_side |   Updated faces: {1: [4, 1, 2], 2: [2, 3, 4]}\n",
      "DEBUG | fold_on_crease_by_side | Updating layers after splitting... current layers: [{1: [1]}] (faces: {1: [4, 1, 2], 2: [2, 3, 4]})\n",
      "DEBUG | _find_layer_for_new_face | Finding layer for new face [2, 3, 4] from old layer 1\n",
      "DEBUG | _find_layer_for_new_face | Layer 2 is not in layers, returning it.\n",
      "DEBUG | fold_on_crease_by_side |   Face 1 [4, 1, 2] is folded. New face ID 2 will be in layer 2.\n",
      "DEBUG | fold_on_crease_by_side |  Moved face 2 to layer 2. self.layers: {1: [1], 2: [2]}\n",
      "DEBUG | fold_on_crease_by_side | Vertices to reflect: {3}\n",
      "DEBUG | fold_preparations |  Preparing to fold along edge (2, 5)\n",
      "DEBUG | _vids_position_map | Vertices position map: {1: -1, 2: 0, 3: -1, 4: 1, 5: 0}\n",
      "DEBUG | fold_preparations |  Preparing face 1: [4, 1, 2]\n",
      "DEBUG | fold_preparations |     Face 1 will be split into two faces: [6, 1, 2] and [2, 4, 6]\n",
      "DEBUG | update_vertices_position_map |  Added new vertex to position map. Vertices position map: {1: -1, 2: 0, 3: -1, 4: 1, 5: 0, 6: 0}\n",
      "DEBUG | fold_preparations |  Preparing face 2: [2, 3, 5, 4]\n",
      "DEBUG | fold_preparations |     Face 2 will be split into two faces: [2, 3, 5] and [5, 4, 2]\n",
      "DEBUG | fold_on_crease_by_side | ############# Folding along edge (2, 5) to the -1 side of the line #############\n",
      "DEBUG | get_crease_faces | Found crease faces with both vertices: [[2, 3, 5, 4]]\n",
      "DEBUG | fold_on_crease_by_side | Initial faces to fold: [2]\n",
      "DEBUG | fold_on_crease_by_side | Minimal layer among these faces: 2\n",
      "INFO | _get_faces_to_fold |  Getting faces to fold on the -1 side above layer 2\n",
      "DEBUG | _get_faces_to_fold |   Adding face 2 to fold list, since layer 2 >= 2 and has vertices on the -1 side: [2, 3, 5]\n",
      "DEBUG | _get_faces_to_fold |  Checking adjacent faces for face 2: vertices on the folding side: {3}\n",
      "DEBUG | fold_on_crease_by_side | Faces to fold before sorting, above layer 2 and in -1 position: {2}\n",
      "DEBUG | fold_on_crease_by_side | Faces to fold sorted by layers: [2]\n",
      "DEBUG | fold_on_crease_by_side | Starting to fold faces...\n",
      "DEBUG | fold_on_crease_by_side |  Folding face 2 in layer 2 with split=True and vertices positions: {1: [5, 4, 2], -1: [2, 3, 5]}\n",
      "DEBUG | fold_on_crease_by_side |   Face 2 is split. Staying face: [5, 4, 2], folding face: [2, 3, 5] into new face ID 3\n",
      "DEBUG | fold_on_crease_by_side |   Updated faces: {1: [4, 6, 1, 2], 2: [5, 4, 2], 3: [2, 3, 5]}\n",
      "DEBUG | fold_on_crease_by_side | Updating layers after splitting... current layers: [{1: [1], 2: [2]}] (faces: {1: [4, 6, 1, 2], 2: [5, 4, 2], 3: [2, 3, 5]})\n",
      "DEBUG | _find_layer_for_new_face | Finding layer for new face [2, 3, 5] from old layer 2\n",
      "DEBUG | _find_layer_for_new_face | Layer 3 is not in layers, returning it.\n",
      "DEBUG | fold_on_crease_by_side |   Face 2 [5, 4, 2] is folded. New face ID 3 will be in layer 3.\n",
      "DEBUG | fold_on_crease_by_side |  Moved face 3 to layer 3. self.layers: {1: [1], 2: [2], 3: [3]}\n",
      "DEBUG | fold_on_crease_by_side | Vertices to reflect: {3}\n",
      "DEBUG | fold_preparations |  Preparing to fold along edge (2, 7)\n",
      "DEBUG | _vids_position_map | Vertices position map: {1: -1, 2: 0, 3: 1, 4: 1, 5: -1, 6: -1, 7: 0}\n",
      "DEBUG | fold_preparations |  Preparing face 1: [4, 6, 1, 2]\n",
      "DEBUG | fold_preparations |     Face 1 will be split into two faces: [8, 6, 1, 2] and [2, 4, 8]\n",
      "DEBUG | update_vertices_position_map |  Added new vertex to position map. Vertices position map: {1: -1, 2: 0, 3: 1, 4: 1, 5: -1, 6: -1, 7: 0, 8: 0}\n",
      "DEBUG | fold_preparations |  Preparing face 2: [5, 4, 2]\n",
      "DEBUG | fold_preparations |     Face 2 will be split into two faces: [9, 4, 2] and [2, 5, 9]\n",
      "DEBUG | update_vertices_position_map |  Added new vertex to position map. Vertices position map: {1: -1, 2: 0, 3: 1, 4: 1, 5: -1, 6: -1, 7: 0, 8: 0, 9: 0}\n",
      "DEBUG | fold_preparations |  Preparing face 3: [2, 3, 7, 5]\n",
      "DEBUG | fold_preparations |     Face 3 will be split into two faces: [2, 3, 7] and [7, 5, 2]\n",
      "DEBUG | fold_on_crease_by_side | ############# Folding along edge (2, 7) to the 1 side of the line #############\n",
      "DEBUG | get_crease_faces | Found crease faces with both vertices: [[2, 3, 7, 5]]\n",
      "DEBUG | fold_on_crease_by_side | Initial faces to fold: [3]\n",
      "DEBUG | fold_on_crease_by_side | Minimal layer among these faces: 3\n",
      "INFO | _get_faces_to_fold |  Getting faces to fold on the 1 side above layer 3\n",
      "DEBUG | _get_faces_to_fold |   Adding face 3 to fold list, since layer 3 >= 3 and has vertices on the 1 side: [2, 3, 7]\n",
      "DEBUG | _get_faces_to_fold |  Checking adjacent faces for face 3: vertices on the folding side: {3}\n",
      "DEBUG | fold_on_crease_by_side | Faces to fold before sorting, above layer 3 and in 1 position: {3}\n",
      "DEBUG | fold_on_crease_by_side | Faces to fold sorted by layers: [3]\n",
      "DEBUG | fold_on_crease_by_side | Starting to fold faces...\n",
      "DEBUG | fold_on_crease_by_side |  Folding face 3 in layer 3 with split=True and vertices positions: {1: [2, 3, 7], -1: [7, 5, 2]}\n",
      "DEBUG | fold_on_crease_by_side |   Face 3 is split. Staying face: [7, 5, 2], folding face: [2, 3, 7] into new face ID 4\n",
      "DEBUG | fold_on_crease_by_side |   Updated faces: {1: [4, 8, 6, 1, 2], 2: [5, 9, 4, 2], 3: [7, 5, 2], 4: [2, 3, 7]}\n",
      "DEBUG | fold_on_crease_by_side | Updating layers after splitting... current layers: [{1: [1], 2: [2], 3: [3]}] (faces: {1: [4, 8, 6, 1, 2], 2: [5, 9, 4, 2], 3: [7, 5, 2], 4: [2, 3, 7]})\n",
      "DEBUG | _find_layer_for_new_face | Finding layer for new face [2, 3, 7] from old layer 3\n",
      "DEBUG | _find_layer_for_new_face | Layer 4 is not in layers, returning it.\n",
      "DEBUG | fold_on_crease_by_side |   Face 3 [7, 5, 2] is folded. New face ID 4 will be in layer 4.\n",
      "DEBUG | fold_on_crease_by_side |  Moved face 4 to layer 4. self.layers: {1: [1], 2: [2], 3: [3], 4: [4]}\n",
      "DEBUG | fold_on_crease_by_side | Vertices to reflect: {3}\n",
      "DEBUG | fold_preparations |  Preparing to fold along edge (5, 7)\n",
      "DEBUG | _vids_position_map | Vertices position map: {1: 1, 2: 1, 3: 1, 4: -1, 5: 0, 6: 0, 7: 0, 8: -1, 9: -1}\n",
      "DEBUG | fold_preparations |  Preparing face 1: [4, 8, 6, 1, 2]\n",
      "DEBUG | fold_preparations |     Face 1 will be split into two faces: [6, 1, 2, 10] and [10, 4, 8, 6]\n",
      "DEBUG | update_vertices_position_map |  Added new vertex to position map. Vertices position map: {1: 1, 2: 1, 3: 1, 4: -1, 5: 0, 6: 0, 7: 0, 8: -1, 9: -1, 10: 0}\n",
      "DEBUG | fold_preparations |  Preparing face 2: [5, 9, 4, 10, 2]\n",
      "DEBUG | fold_preparations |     Face 2 will be split into two faces: [5, 9, 4, 10] and [10, 2, 5]\n",
      "DEBUG | fold_preparations |  Preparing face 3: [7, 5, 2]\n",
      "DEBUG | fold_preparations |     All vertices of face 3 are on the positive side of the line.\n",
      "DEBUG | fold_preparations |  Preparing face 4: [2, 3, 7]\n",
      "DEBUG | fold_preparations |     All vertices of face 4 are on the positive side of the line.\n",
      "DEBUG | fold_on_crease_by_side | ############# Folding along edge (5, 7) to the -1 side of the line #############\n",
      "DEBUG | get_crease_faces | Found crease faces with both vertices: [[7, 5, 2]]\n",
      "DEBUG | fold_on_crease_by_side | Initial faces to fold: [3]\n",
      "DEBUG | fold_on_crease_by_side | Minimal layer among these faces: 3\n",
      "INFO | _get_faces_to_fold |  Getting faces to fold on the -1 side above layer 3\n",
      "DEBUG | fold_on_crease_by_side | Faces to fold before sorting, above layer 3 and in -1 position: set()\n",
      "DEBUG | fold_on_crease_by_side | Faces to fold sorted by layers: []\n",
      "DEBUG | fold_on_crease_by_side | Starting to fold faces...\n",
      "DEBUG | fold_on_crease_by_side | Updating layers after splitting... current layers: [{1: [1], 2: [2], 3: [3], 4: [4]}] (faces: {1: [4, 8, 6, 1, 2, 10], 2: [5, 9, 4, 10, 2], 3: [7, 5, 2], 4: [2, 3, 7]})\n",
      "DEBUG | fold_on_crease_by_side | Vertices to reflect: set()\n"
     ]
    },
    {
     "data": {
      "image/png": "[encoded data removed]",
      "text/plain": [
       "<Figure size 400x400 with 1 Axes>"
      ]
     },
     "metadata": {},
     "output_type": "display_data"
    }
   ],
   "source": [
    "paper = Origami()\n",
    "paper.fold_on_crease((2, 4), 3)\n",
    "paper.split_face_by_edge_and_ratio((3, 4), 0.5)\n",
    "paper.fold_on_crease((2, 5), 3)\n",
    "paper.split_face_by_edge_and_ratio((3, 5), 0.5)\n",
    "paper.fold_on_crease((2, 7), 3)\n",
    "paper.fold_on_crease((5, 7), 4)\n",
    "paper.plot()\n",
    "# paper.split_face_by_edge_and_ratio()\n",
    "\n"
   ]
  },
  {
   "cell_type": "code",
   "execution_count": null,
   "id": "0a8ed3ee",
   "metadata": {},
   "outputs": [],
   "source": [
    "# paper = Origami()\n",
    "# v5, v6 = paper.split_face_by_edge_and_ratio((1, 2), [0.25, 0.75])\n",
    "# paper.fold_on_crease((4, 5), 1)\n",
    "# paper.fold_on_crease((6, 3), 2)\n",
    "# v7 = paper.split_face_by_edge_and_ratio((4, 5), 0.6)\n",
    "# v8 = paper.split_face_by_edge_and_ratio((3, 6), 0.6)\n",
    "# paper.plot()\n",
    "# paper.fold_on_crease((7, 8), 5)\n",
    "# paper.plot()\n",
    "# v9 = paper.split_face_by_edge_and_ratio((5, 7), 0.7)\n",
    "# v10 = paper.split_face_by_edge_and_ratio((6, 8), 0.7)\n",
    "# paper.fold_on_crease((11, 12), 5)\n",
    "# paper.plot()\n",
    "# # v11 = paper.split_face_by_edge_and_ratio((6, 5), 0.5)\n",
    "# # v12 = paper.split_face_by_edge_and_ratio((3, 4), 0.5)\n",
    "# # paper.fold_on_crease((v11, v12), 5)\n",
    "# # paper.plot()\n",
    "# paper.flip()\n",
    "# paper.plot()\n",
    "# v11 = paper.split_face_by_edge_and_ratio((6, 5), 0.5)\n",
    "# v12 = paper.split_face_by_edge_and_ratio((3, 4), 0.5)\n",
    "# paper.fold_on_crease((v11, v12), 5)\n",
    "# # paper.plot_layers()\n",
    "# paper.plot()\n",
    "# # plot_crease_map(paper)\n"
   ]
  },
  {
   "cell_type": "code",
   "execution_count": null,
   "id": "8c4cd843",
   "metadata": {},
   "outputs": [],
   "source": [
    "paper.edges_splits"
   ]
  },
  {
   "cell_type": "code",
   "execution_count": null,
   "id": "bea48ba1",
   "metadata": {},
   "outputs": [],
   "source": []
  }
 ],
 "metadata": {
  "kernelspec": {
   "display_name": "origami-ui",
   "language": "python",
   "name": "python3"
  },
  "language_info": {
   "codemirror_mode": {
    "name": "ipython",
    "version": 3
   },
   "file_extension": ".py",
   "mimetype": "text/x-python",
   "name": "python",
   "nbconvert_exporter": "python",
   "pygments_lexer": "ipython3",
   "version": "3.10.18"
  }
 },
 "nbformat": 4,
 "nbformat_minor": 5
}

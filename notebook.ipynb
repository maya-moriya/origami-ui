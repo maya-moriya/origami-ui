{
 "cells": [
  {
   "cell_type": "code",
   "execution_count": 11,
   "id": "1a4960d3",
   "metadata": {},
   "outputs": [
    {
     "name": "stdout",
     "output_type": "stream",
     "text": [
      "The autoreload extension is already loaded. To reload it, use:\n",
      "  %reload_ext autoreload\n"
     ]
    }
   ],
   "source": [
    "%load_ext autoreload\n",
    "%autoreload 2"
   ]
  },
  {
   "cell_type": "code",
   "execution_count": 12,
   "id": "82a01eae",
   "metadata": {},
   "outputs": [],
   "source": [
    "from src.origami import *\n",
    "from src.crease_map import *\n"
   ]
  },
  {
   "cell_type": "code",
   "execution_count": 64,
   "id": "e6db7446",
   "metadata": {},
   "outputs": [
    {
     "name": "stderr",
     "output_type": "stream",
     "text": [
      "DEBUG | fold_preparations |  Preparing to fold along edge (2, 4)\n",
      "DEBUG | _vids_position_map | Vertices position map: {1: -1, 2: 0, 3: 1, 4: 0}\n",
      "DEBUG | fold_preparations |  Preparing face 1: [1, 2, 3, 4]\n",
      "DEBUG | fold_preparations |     Face 1 will be split into two faces: [2, 3, 4] and [4, 1, 2]\n",
      "DEBUG | get_crease_faces | Found crease faces with both vertices: [[1, 2, 3, 4]]\n",
      "INFO | _get_faces_to_fold |  Getting faces to fold on the 1 side above layer 1\n",
      "DEBUG | _get_faces_to_fold |   Adding face 1 to fold list, since layer 1 >= 1 and has vertices on the 1 side: [2, 3, 4]\n",
      "DEBUG | _get_faces_to_fold |  Checking adjacent faces for face 1: vertices on the folding side: {3}\n",
      "INFO | _get_faces_to_fold |  Getting faces to fold on the -1 side above layer 1\n",
      "DEBUG | _get_faces_to_fold |   Adding face 1 to fold list, since layer 1 >= 1 and has vertices on the -1 side: [4, 1, 2]\n",
      "DEBUG | _get_faces_to_fold |  Checking adjacent faces for face 1: vertices on the folding side: {1}\n",
      "DEBUG | _updates_faces_after_fold | Updating faces after splitting... (faces: {1: [1, 2, 3, 4]}) pos_to_fold: -1\n",
      "DEBUG | _updates_faces_after_fold | Faces to fold sorted by layers: [1]\n",
      "DEBUG | _updates_faces_after_fold | Starting to fold faces...\n",
      "DEBUG | _updates_faces_after_fold |  Folding face 1 in layer 1 with split=True and vertices positions: {1: [2, 3, 4], -1: [4, 1, 2]}\n",
      "DEBUG | _updates_faces_after_fold |  info['faces']: {1: [2, 3, 4], -1: [4, 1, 2]} pos_to_stay: 1, pos_to_fold: -1\n",
      "DEBUG | _updates_faces_after_fold |   Face 1 is split. Staying face: [2, 3, 4], folding face: [4, 1, 2] into new face ID 2\n",
      "DEBUG | _updates_faces_after_fold |   Updated faces: {1: [2, 3, 4], 2: [4, 1, 2]}\n",
      "DEBUG | _update_layers_after_fold | Updating layers after splitting... current layers: [{1: [1]}] (faces: {1: [2, 3, 4], 2: [4, 1, 2]})\n",
      "DEBUG | _find_layer_for_new_face | Finding layer for new face [4, 1, 2] from old layer 1\n",
      "DEBUG | _find_layer_for_new_face | Layer 2 is not in layers, returning it.\n",
      "DEBUG | _update_layers_after_fold |   Face 1 [2, 3, 4] is folded. New face ID 2 will be in layer 2.\n",
      "DEBUG | _update_layers_after_fold |  Moved face 2 to layer 2. self.layers: {1: [1], 2: [2]}\n",
      "DEBUG | _reflect_vertices_after_fold | Vertices to reflect: {1}\n",
      "DEBUG | fold_preparations |  Preparing to fold along edge (5, 4)\n",
      "DEBUG | _vids_position_map | Vertices position map: {1: 1, 2: -1, 3: 1, 4: 0, 5: 0}\n",
      "DEBUG | fold_preparations |  Preparing face 1: [2, 3, 4]\n",
      "DEBUG | fold_preparations |     Face 1 will be split into two faces: [6, 3, 4] and [4, 2, 6]\n",
      "DEBUG | update_vertices_position_map |  Added new vertex to position map. Vertices position map: {1: 1, 2: -1, 3: 1, 4: 0, 5: 0, 6: 0}\n",
      "DEBUG | fold_preparations |  Preparing face 2: [4, 1, 5, 2]\n",
      "DEBUG | fold_preparations |     Face 2 will be split into two faces: [4, 1, 5] and [5, 2, 4]\n",
      "DEBUG | get_crease_faces | Found crease faces with both vertices: [[4, 1, 5, 2]]\n",
      "INFO | _get_faces_to_fold |  Getting faces to fold on the 1 side above layer 2\n",
      "DEBUG | _get_faces_to_fold |   Adding face 2 to fold list, since layer 2 >= 2 and has vertices on the 1 side: [4, 1, 5]\n",
      "DEBUG | _get_faces_to_fold |  Checking adjacent faces for face 2: vertices on the folding side: {1}\n",
      "INFO | _get_faces_to_fold |  Getting faces to fold on the -1 side above layer 2\n",
      "DEBUG | _get_faces_to_fold |   Adding face 2 to fold list, since layer 2 >= 2 and has vertices on the -1 side: [5, 2, 4]\n",
      "DEBUG | _get_faces_to_fold |  Checking adjacent faces for face 2: vertices on the folding side: {2}\n",
      "DEBUG | _get_faces_to_fold |  1 is adjacent to 2 through vertex 2\n",
      "DEBUG | _get_faces_to_fold |  Checking adjacent faces for face 1: vertices on the folding side: {2}\n",
      "DEBUG | _get_faces_to_fold |  Checking adjacent faces for face 2: vertices on the folding side: {2}\n",
      "DEBUG | _updates_faces_after_fold | Updating faces after splitting... (faces: {1: [2, 6, 3, 4], 2: [4, 1, 5, 2]}) pos_to_fold: -1\n",
      "DEBUG | _updates_faces_after_fold | Faces to fold sorted by layers: [2, 1]\n",
      "DEBUG | _updates_faces_after_fold | Starting to fold faces...\n",
      "DEBUG | _updates_faces_after_fold |  Folding face 2 in layer 2 with split=True and vertices positions: {1: [4, 1, 5], -1: [5, 2, 4]}\n",
      "DEBUG | _updates_faces_after_fold |  info['faces']: {1: [4, 1, 5], -1: [5, 2, 4]} pos_to_stay: 1, pos_to_fold: -1\n",
      "DEBUG | _updates_faces_after_fold |   Face 2 is split. Staying face: [4, 1, 5], folding face: [5, 2, 4] into new face ID 3\n",
      "DEBUG | _updates_faces_after_fold |   Updated faces: {1: [2, 6, 3, 4], 2: [4, 1, 5], 3: [5, 2, 4]}\n",
      "DEBUG | _updates_faces_after_fold |  Folding face 1 in layer 1 with split=True and vertices positions: {1: [6, 3, 4], -1: [4, 2, 6]}\n",
      "DEBUG | _updates_faces_after_fold |  info['faces']: {1: [6, 3, 4], -1: [4, 2, 6]} pos_to_stay: 1, pos_to_fold: -1\n",
      "DEBUG | _updates_faces_after_fold |   Face 1 is split. Staying face: [6, 3, 4], folding face: [4, 2, 6] into new face ID 4\n",
      "DEBUG | _updates_faces_after_fold |   Updated faces: {1: [6, 3, 4], 2: [4, 1, 5], 3: [5, 2, 4], 4: [4, 2, 6]}\n",
      "DEBUG | _update_layers_after_fold | Updating layers after splitting... current layers: [{1: [1], 2: [2]}] (faces: {1: [6, 3, 4], 2: [4, 1, 5], 3: [5, 2, 4], 4: [4, 2, 6]})\n",
      "DEBUG | _find_layer_for_new_face | Finding layer for new face [4, 2, 6] from old layer 1\n",
      "DEBUG | _find_layer_for_new_face | Layer 2 overlaps with new face [4, 2, 6], checking next layer.\n",
      "DEBUG | _find_layer_for_new_face | Layer 3 is not in layers, returning it.\n",
      "DEBUG | _update_layers_after_fold |   Face 1 [6, 3, 4] is folded. New face ID 4 will be in layer 3.\n",
      "DEBUG | _update_layers_after_fold |  Moved face 4 to layer 3. self.layers: {1: [1], 2: [2], 3: [4]}\n",
      "DEBUG | _find_layer_for_new_face | Finding layer for new face [5, 2, 4] from old layer 2\n",
      "DEBUG | _find_layer_for_new_face | Layer 3 overlaps with new face [5, 2, 4], checking next layer.\n",
      "DEBUG | _find_layer_for_new_face | Layer 4 is not in layers, returning it.\n",
      "DEBUG | _update_layers_after_fold |   Face 2 [4, 1, 5] is folded. New face ID 3 will be in layer 4.\n",
      "DEBUG | _update_layers_after_fold |  Moved face 3 to layer 4. self.layers: {1: [1], 2: [2], 3: [4], 4: [3]}\n",
      "DEBUG | _reflect_vertices_after_fold | Vertices to reflect: {2}\n"
     ]
    },
    {
     "name": "stdout",
     "output_type": "stream",
     "text": [
      ".... Faces by Layers ...\n",
      "    Layer 1\n",
      "        Face 1: [6, 3, 4] Orientation: 0\n",
      "    Layer 2\n",
      "        Face 2: [4, 1, 5] Orientation: 1\n",
      "    Layer 3\n",
      "        Face 4: [4, 2, 6] Orientation: 1\n",
      "    Layer 4\n",
      "        Face 3: [5, 2, 4] Orientation: 0\n"
     ]
    },
    {
     "data": {
      "image/png": "[encoded data removed]",
      "text/plain": [
       "<Figure size 400x400 with 1 Axes>"
      ]
     },
     "metadata": {},
     "output_type": "display_data"
    }
   ],
   "source": [
    "paper = Origami()\n",
    "paper.fold((2, 4), -1)\n",
    "paper.split_face_by_edge_and_ratio((1, 2), 0.5)\n",
    "paper.fold((5, 4), -1)\n",
    "# paper.fold_on_crease((4, 5), 2)\n",
    "\n",
    "# paper.fold_on_crease((2, 5), 3)\n",
    "# paper.split_face_by_edge_and_ratio((3, 5), 0.5)\n",
    "# paper.fold_on_crease((2, 7), 3)\n",
    "# paper.fold_on_crease((5, 7), 4)\n",
    "paper.plot(print_layers=True)\n",
    "# paper.split_face_by_edge_and_ratio()\n",
    "\n"
   ]
  },
  {
   "cell_type": "code",
   "execution_count": null,
   "id": "0a8ed3ee",
   "metadata": {},
   "outputs": [],
   "source": [
    "# paper = Origami()\n",
    "# v5, v6 = paper.split_face_by_edge_and_ratio((1, 2), [0.25, 0.75])\n",
    "# paper.fold_on_crease((4, 5), 1)\n",
    "# paper.fold_on_crease((6, 3), 2)\n",
    "# v7 = paper.split_face_by_edge_and_ratio((4, 5), 0.6)\n",
    "# v8 = paper.split_face_by_edge_and_ratio((3, 6), 0.6)\n",
    "# paper.plot()\n",
    "# paper.fold_on_crease((7, 8), 5)\n",
    "# paper.plot()\n",
    "# v9 = paper.split_face_by_edge_and_ratio((5, 7), 0.7)\n",
    "# v10 = paper.split_face_by_edge_and_ratio((6, 8), 0.7)\n",
    "# paper.fold_on_crease((11, 12), 5)\n",
    "# paper.plot()\n",
    "# # v11 = paper.split_face_by_edge_and_ratio((6, 5), 0.5)\n",
    "# # v12 = paper.split_face_by_edge_and_ratio((3, 4), 0.5)\n",
    "# # paper.fold_on_crease((v11, v12), 5)\n",
    "# # paper.plot()\n",
    "# paper.flip()\n",
    "# paper.plot()\n",
    "# v11 = paper.split_face_by_edge_and_ratio((6, 5), 0.5)\n",
    "# v12 = paper.split_face_by_edge_and_ratio((3, 4), 0.5)\n",
    "# paper.fold_on_crease((v11, v12), 5)\n",
    "# # paper.plot_layers()\n",
    "# paper.plot()\n",
    "# # plot_crease_map(paper)\n"
   ]
  },
  {
   "cell_type": "code",
   "execution_count": null,
   "id": "8c4cd843",
   "metadata": {},
   "outputs": [],
   "source": [
    "paper.edges_splits"
   ]
  },
  {
   "cell_type": "code",
   "execution_count": null,
   "id": "bea48ba1",
   "metadata": {},
   "outputs": [],
   "source": []
  }
 ],
 "metadata": {
  "kernelspec": {
   "display_name": "origami-ui",
   "language": "python",
   "name": "python3"
  },
  "language_info": {
   "codemirror_mode": {
    "name": "ipython",
    "version": 3
   },
   "file_extension": ".py",
   "mimetype": "text/x-python",
   "name": "python",
   "nbconvert_exporter": "python",
   "pygments_lexer": "ipython3",
   "version": "3.10.18"
  }
 },
 "nbformat": 4,
 "nbformat_minor": 5
}
